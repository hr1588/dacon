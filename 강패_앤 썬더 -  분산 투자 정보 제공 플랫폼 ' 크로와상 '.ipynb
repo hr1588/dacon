{
 "cells": [
  {
   "cell_type": "markdown",
   "id": "b293b8b9",
   "metadata": {},
   "source": [
    "## [전체 프로세스 개요 - 목차]\n"
   ]
  },
  {
   "cell_type": "markdown",
   "id": "9325f525",
   "metadata": {},
   "source": [
    "- 데이터 준비\n",
    "\n",
    " 1. 일별시세정보 - 2021년 1,2,3월 KOSPI(유가증권), KOSDAQ 데이터를 병합하였습니다.\n",
    " 2. 기간 내 중간에 상장된 종목 제거\n",
    " 3. 거래 정지 종목, 관리 종목, 불성실 여부( Y ) 종목 제거\n",
    " 4. 우선주, 동전주 ( 1000원 미만 )인 종목 제거\n",
    " 5. 거래량이 0인 종목 제거\n",
    " 6. 종목별 샤프지수와 1일 수익률을 구함. 샤프지수는 수익률 - 무위험수익률 / 수익률의 표준편차. 여기서 무위험 수익률 은 기간 내 기준금리로 설정."
   ]
  },
  {
   "cell_type": "markdown",
   "id": "b6d05469",
   "metadata": {},
   "source": [
    "- 상관관계 분석\n",
    "\n",
    " 7. '1일 수익률', '종가', '기간 내 수익률', '샤프지수', '종목별 샤프지수 평균' 열 추출\n",
    " 8. 삼성전자보다 수익률과 샤프지수가 높은 종목 선정 \n",
    " 9. 수익률에 관한 종목 간 상관관계 분석\n",
    " 10. 3~5 과정을 3개월, 2주 기간 각각으로 진행\n",
    " 11. 섹터 간 상관관계 분석"
   ]
  },
  {
   "cell_type": "markdown",
   "id": "41530742",
   "metadata": {},
   "source": [
    "- 기사 단어 빈도 분석 \n",
    "\n",
    " 12. 네이버 뉴스 크롤링\n",
    " 13. 자연어 처리\n",
    " 14. 일별 단어 빈도, 등락율 추출\n",
    " 15. 상승장/하락장 점수 구하기\n",
    " 16. 기간내 단어별 점수 산출, 정규화"
   ]
  },
  {
   "cell_type": "markdown",
   "id": "3f871deb",
   "metadata": {},
   "source": [
    "## [실행환경 및 실행방법]\n"
   ]
  },
  {
   "cell_type": "markdown",
   "id": "e9e344d9",
   "metadata": {},
   "source": [
    "- Jupyter Notebook, Intel(R) Core(TM) i5-8265U CPU @ 1.60GHz   1.80 GHz"
   ]
  },
  {
   "cell_type": "markdown",
   "id": "bdc8d660",
   "metadata": {},
   "source": [
    "<!-- <img src='./image.png' width =800> -->\n",
    "<img src='http://drive.google.com/uc?export=view&id=1LETIaCRtg6szjKLcEsOrDeBBDri5BbYP'>"
   ]
  },
  {
   "cell_type": "code",
   "execution_count": 3,
   "id": "2478984d",
   "metadata": {},
   "outputs": [],
   "source": [
    "import pandas as pd\n",
    "import numpy as np\n",
    "import csv\n",
    "import glob\n",
    "import warnings\n",
    "warnings.filterwarnings('ignore')\n",
    "import matplotlib.pyplot as plt\n",
    "import seaborn as sns\n",
    "from bs4 import BeautifulSoup\n",
    "import requests\n",
    "import re\n",
    "import datetime\n",
    "from tqdm import tqdm\n",
    "from matplotlib import font_manager, rc\n",
    "import sklearn\n",
    "from sklearn.preprocessing import *\n",
    "font_path = \"C:/Windows/Fonts/NGULIM.TTF\"\n",
    "font = font_manager.FontProperties(fname=font_path).get_name()\n",
    "rc('font', family=font)"
   ]
  },
  {
   "cell_type": "markdown",
   "id": "665ccbb5",
   "metadata": {},
   "source": [
    "# 데이터 전처리"
   ]
  },
  {
   "cell_type": "code",
   "execution_count": 7,
   "id": "27ab236d",
   "metadata": {},
   "outputs": [
    {
     "name": "stderr",
     "output_type": "stream",
     "text": [
      "b'Skipping line 29432: expected 58 fields, saw 115\\n'\n",
      "b'Skipping line 56080: expected 58 fields, saw 115\\n'\n",
      "b'Skipping line 88891: expected 58 fields, saw 115\\n'\n",
      "b'Skipping line 107240: expected 58 fields, saw 115\\n'\n",
      "b'Skipping line 123812: expected 58 fields, saw 115\\n'\n"
     ]
    }
   ],
   "source": [
    "merge= pd.read_csv('http://drive.google.com/uc?export=view&id=110KNdYHp8iLBqCspdeQiHPh7fG3m-Cpj', encoding='cp949',error_bad_lines=False)\n",
    "merge_data=merge.loc[:,[\"거래일자\", \"시장ID\",\"종목코드\",\"종목명\",\"시가\",\"고가\",\"저가\",\"종가\",\"거래량\",\"상장일\",\"상한가\",\"하한가\",\"업종구분\",\"제조업구분\",\"거래정지여부\",\"불성실공시여부\",\"관리종목여부\"]]"
   ]
  },
  {
   "cell_type": "markdown",
   "id": "26afa2eb",
   "metadata": {},
   "source": [
    "- merge는 사전에 주식 - 일별시세정보의 21년 1, 2, 3월의 유가증권, 코스닥정보를 병합한 csv입니다..\n",
    "- 필요한 columns 가져오기"
   ]
  },
  {
   "cell_type": "code",
   "execution_count": 11,
   "id": "f06aa18e",
   "metadata": {},
   "outputs": [],
   "source": [
    "md_1=merge_data[merge_data['상장일']>=20210101].index \n",
    "merge_data_1=merge_data.drop(md_1)"
   ]
  },
  {
   "cell_type": "markdown",
   "id": "040f8db8",
   "metadata": {},
   "source": [
    "- 기간 내 상장된 종목 제거"
   ]
  },
  {
   "cell_type": "code",
   "execution_count": 12,
   "id": "6fee09dc",
   "metadata": {},
   "outputs": [],
   "source": [
    "merge_data_1.isnull()\n",
    "merge_data_1.isnull().sum()\n",
    "merge_data_d= merge_data_1.dropna(axis=0)"
   ]
  },
  {
   "cell_type": "markdown",
   "id": "93b47b57",
   "metadata": {},
   "source": [
    "- 우선주 제외"
   ]
  },
  {
   "cell_type": "code",
   "execution_count": 13,
   "id": "d18936c6",
   "metadata": {},
   "outputs": [],
   "source": [
    "df= merge_data_d"
   ]
  },
  {
   "cell_type": "code",
   "execution_count": 15,
   "id": "aeeeb135",
   "metadata": {},
   "outputs": [],
   "source": [
    "MNName = df[df['거래정지여부']=='Y']\n",
    "test_MN = MNName['종목명'].unique()\n",
    "MNName_a = test_MN.tolist()\n",
    "for i in range(len(MNName_a)) :\n",
    "    MNdrop = MNName_a[i]\n",
    "    dp = df[df['종목명']==MNdrop].index\n",
    "    df.drop(dp,inplace=True)"
   ]
  },
  {
   "cell_type": "markdown",
   "id": "6047aa82",
   "metadata": {},
   "source": [
    "- 거래 정지 종목 제거"
   ]
  },
  {
   "cell_type": "code",
   "execution_count": 16,
   "id": "a75ce9ac",
   "metadata": {},
   "outputs": [],
   "source": [
    "NTName = df[df['불성실공시여부']=='Y']\n",
    "test_NT = NTName['종목명'].unique()\n",
    "NTName_a = test_NT.tolist()\n",
    "for i in range(len(NTName_a)) :\n",
    "    NTdrop = NTName_a[i]\n",
    "    dp = df[df['종목명']==NTdrop].index\n",
    "    df.drop(dp,inplace=True)"
   ]
  },
  {
   "cell_type": "markdown",
   "id": "f0f66b6d",
   "metadata": {},
   "source": [
    "- 불성실공시여부에 Y인 종목 제거"
   ]
  },
  {
   "cell_type": "code",
   "execution_count": 17,
   "id": "824e740e",
   "metadata": {},
   "outputs": [],
   "source": [
    "MGName = df[df['관리종목여부']=='Y']\n",
    "test_MG = MGName['종목명'].unique()\n",
    "MGName_a = test_MG.tolist()\n",
    "for i in range(len(MGName_a)) :\n",
    "    MGdrop = MGName_a[i]\n",
    "    dp = df[df['종목명']==MGdrop].index\n",
    "    df.drop(dp,inplace=True)"
   ]
  },
  {
   "cell_type": "markdown",
   "id": "d5325df9",
   "metadata": {},
   "source": [
    "- 관리종목 제거"
   ]
  },
  {
   "cell_type": "code",
   "execution_count": 18,
   "id": "3ef52478",
   "metadata": {},
   "outputs": [],
   "source": [
    "AmountName = df[df['거래량']==0]\n",
    "test_AN = AmountName['종목명'].unique()\n",
    "AmountName_a = test_AN.tolist()\n",
    "for i in range(len(AmountName_a)) :\n",
    "    Amountdrop = AmountName_a[i]\n",
    "    dp = df[df['종목명']==Amountdrop].index\n",
    "    df.drop(dp,inplace=True)"
   ]
  },
  {
   "cell_type": "markdown",
   "id": "76944086",
   "metadata": {},
   "source": [
    "- 거래량이 0인 종목 제거"
   ]
  },
  {
   "cell_type": "code",
   "execution_count": 19,
   "id": "8d4dcb98",
   "metadata": {},
   "outputs": [],
   "source": [
    "CoinName = df[df['종가']<1000]\n",
    "test_CN = CoinName['종목명'].unique()\n",
    "IndexName_CN = test_CN.tolist()\n",
    "for i in range(len(IndexName_CN)) :\n",
    "    Indexdrop = IndexName_CN[i]\n",
    "    dp = df[df['종목명']==Indexdrop].index\n",
    "    df.drop(dp,inplace=True)"
   ]
  },
  {
   "cell_type": "markdown",
   "id": "4a14321b",
   "metadata": {},
   "source": [
    "- 동전주 ( 1000원 미만인 주식 ) 제거"
   ]
  },
  {
   "cell_type": "code",
   "execution_count": 20,
   "id": "1e7678d1",
   "metadata": {},
   "outputs": [],
   "source": [
    "df = df[['거래일자', '시장ID', '종목코드', '종목명','종가', '거래량', '상장일',\n",
    "       '업종구분', '제조업구분']]"
   ]
  },
  {
   "cell_type": "markdown",
   "id": "1b295b02",
   "metadata": {},
   "source": [
    "# 삼성전자에 대한 상관분석을 통한 종목, 섹터(제조업별) 정보 제공\n",
    "# 3개월( 2021.01.05 ~ 2021.03.31 )"
   ]
  },
  {
   "cell_type": "code",
   "execution_count": 21,
   "id": "852ea27e",
   "metadata": {},
   "outputs": [],
   "source": [
    "test_a = df['종목명'].unique()\n",
    "IndexName_a = test_a.tolist()\n",
    "result =pd.DataFrame({})\n",
    "for i in range(len(IndexName_a)) :\n",
    "    plus = df[df['종목명']==IndexName_a[i]]\n",
    "    plus['1일수익률'] = plus['종가'].pct_change() *100\n",
    "    plus['변동성'] = plus['1일수익률'].std()\n",
    "    plus['기간내수익률'] = plus['1일수익률'].mean()\n",
    "    plus['샤프지수'] = (plus['1일수익률']-0.5)/plus['변동성'] #0.5= 당시 기준금리\n",
    "    plus['종목별샤프지수평균'] = plus['샤프지수'].mean()\n",
    "    result = result.append(plus,ignore_index = True)\n",
    "    continue\n",
    "df_return = result\n",
    "df_return = df_return.dropna()\n",
    "test_b = df_return['제조업구분'].unique()\n",
    "IndexName_b = test_b.tolist()\n",
    "result =pd.DataFrame({})\n",
    "for i in range(len(IndexName_b)) :\n",
    "    ex =  df_return[df_return['제조업구분']==IndexName_b[i]]\n",
    "    test_c = ex['거래일자'].unique()\n",
    "    IndexName_c = test_c.tolist()\n",
    "    for j in range(len(IndexName_c)) :\n",
    "        plus = ex[ex['거래일자']==IndexName_c[j]]\n",
    "        plus['제조업별1일평균수익률'] = plus['1일수익률'].mean()\n",
    "        result = result.append(plus,ignore_index = True)\n",
    "        continue\n",
    "df_mft = result #df_mft 종목별모든 전처리가 완료된 데이터\n",
    "df_mft = df_mft.sort_values(['종목명','거래일자'])"
   ]
  },
  {
   "cell_type": "markdown",
   "id": "cb695329",
   "metadata": {},
   "source": [
    "- 기존 데이터들을 활용하여서 '1일 수익률', '종가', '기간 내 수익률', '샤프지수', '종목별 샤프지수 평균'을 가져왔습니다."
   ]
  },
  {
   "cell_type": "code",
   "execution_count": 22,
   "id": "1f7657db",
   "metadata": {},
   "outputs": [],
   "source": [
    "df_samsung = df_mft[df_mft['기간내수익률']>=-0.016834]\n",
    "df_samsung= df_samsung[df_samsung['종목별샤프지수평균']>=-0.283469]\n",
    "df_samsung = df_samsung[['종목명','1일수익률']]\n",
    "ex = df_samsung['종목명'].unique()\n",
    "IndexName_ex = ex.tolist()\n",
    "for i in range(len(IndexName_ex)):\n",
    "    test_ex =  df_samsung[df_samsung['종목명']==IndexName_ex[i]]\n",
    "    step_1 = test_ex['1일수익률']\n",
    "    step_2 = step_1.tolist()\n",
    "    step_3 = pd.DataFrame(step_2)\n",
    "    if i == 0 :\n",
    "        test_data = step_3\n",
    "    else :\n",
    "        test_data = pd.concat([test_data,step_3],axis=1)\n",
    "cor_samsung = test_data\n",
    "colname = df_samsung['종목명'].unique()\n",
    "colname = colname.tolist()\n",
    "cor_samsung.columns = colname\n",
    "corr_df = cor_samsung.corr()\n",
    "corr_df = corr_df.apply(lambda x: round(x ,2))\n",
    "ss_mot=corr_df[['삼성전자보통주']]\n",
    "ss_mot=ss_mot.sort_values('삼성전자보통주')"
   ]
  },
  {
   "cell_type": "markdown",
   "id": "b62b1df5",
   "metadata": {},
   "source": [
    "- 기간 내 삼성전자보다 수익률이 높고 샤프지수가 높은 종목들을 선정하였습니다.\n",
    "- 그 종목의 수익률을 통해 상관분석을 하였습니다."
   ]
  },
  {
   "cell_type": "code",
   "execution_count": 23,
   "id": "7feeffb5",
   "metadata": {},
   "outputs": [],
   "source": [
    "name_mft = df_mft['제조업구분'].unique()\n",
    "name_mft = name_mft.tolist()\n",
    "result =pd.DataFrame({})\n",
    "for i in range(len(name_mft)) :\n",
    "    plus =  df_mft[df_mft['제조업구분']==name_mft[i]]\n",
    "    plus['제조업별기간내수익률'] = plus['제조업별1일평균수익률'].mean()\n",
    "    plus['제조업별변동성'] = plus['제조업별1일평균수익률'].std()\n",
    "    plus['제조업별샤프지수'] = (plus['제조업별1일평균수익률']-0.5)/plus['제조업별변동성']\n",
    "    plus['제조업별평균샤프지수'] = plus['제조업별샤프지수'].mean()\n",
    "    result = result.append(plus,ignore_index=True)\n",
    "    continue\n",
    "df_mft = result\n",
    "result=pd.DataFrame({})\n",
    "test_df = df_mft['제조업구분'].unique()\n",
    "IndexName_df = test_df.tolist()\n",
    "for i in range(len(IndexName_df)) :\n",
    "    test_df_a =  df_mft[df_mft['제조업구분']==IndexName_df[i]]\n",
    "    test_df_b = test_df_a['종목명'].unique()\n",
    "    IndexName_df_a = test_df_b.tolist()\n",
    "    plus =  test_df_a[test_df_a['종목명']==IndexName_df_a[0]]\n",
    "    result = result.append(plus,ignore_index=True)\n",
    "    continue\n",
    "df_pdt = result # 제조업별 전처리 완료"
   ]
  },
  {
   "cell_type": "code",
   "execution_count": 24,
   "id": "103a29e2",
   "metadata": {},
   "outputs": [],
   "source": [
    "df_pdt = df_pdt[['거래일자', '제조업별1일평균수익률', '제조업별기간내수익률', '제조업별변동성', '제조업별샤프지수', '종목코드',\n",
    "       '업종구분', '제조업구분','제조업별평균샤프지수']]\n",
    "data_pdt = df_pdt[df_pdt['제조업별기간내수익률']>=0.135175]\n",
    "data_pdt= data_pdt[data_pdt['제조업별평균샤프지수']>=-0.290000]\n",
    "data_pdt = data_pdt[['제조업구분','제조업별1일평균수익률']]\n",
    "ex = data_pdt['제조업구분'].unique()\n",
    "IndexName_ex = ex.tolist()\n",
    "for i in range(len(IndexName_ex)):\n",
    "    test_ex =  data_pdt[data_pdt['제조업구분']==IndexName_ex[i]]\n",
    "    step_1 = test_ex['제조업별1일평균수익률']\n",
    "    step_2 = step_1.tolist()\n",
    "    step_3 = pd.DataFrame(step_2)\n",
    "    if i == 0 :\n",
    "        test_data = step_3\n",
    "    else :\n",
    "        test_data = pd.concat([test_data,step_3],axis=1)\n",
    "pdt_cor = test_data\n",
    "ex = data_pdt['제조업구분'].unique()\n",
    "IndexName_ex = ex.tolist()\n",
    "pdt_cor.columns = ex\n",
    "del pdt_cor['수도, 하수 및 폐기물 처리, 원료 재생업']\n",
    "corr_df = pdt_cor.corr()\n",
    "corr_df = corr_df.apply(lambda x: round(x ,2))\n",
    "pdt_cor=corr_df[['제조업']]\n",
    "pdt_cor=pdt_cor.sort_values('제조업') "
   ]
  },
  {
   "cell_type": "markdown",
   "id": "a2b1faff",
   "metadata": {},
   "source": [
    "- 제조업별로 상관분석을 하였습니다. 방식은 종목별 상관분석과 같습니다."
   ]
  },
  {
   "cell_type": "markdown",
   "id": "0809099f",
   "metadata": {},
   "source": [
    "# 삼성전자에 대한 상관분석을 통한 종목, 섹터(제조업별) 정보 제공\n",
    "# 2주( 2021.03.17 ~ 2021.03.31 )"
   ]
  },
  {
   "cell_type": "code",
   "execution_count": 25,
   "id": "feaee84f",
   "metadata": {},
   "outputs": [],
   "source": [
    "df_date = [20210317,20210318,20210319,20210320,20210321,20210322,20210323,20210324,20210325,20210326,20210327,\n",
    "          20210328,20210329,20210330,20210331]\n",
    "df_2week=df_mft[df_mft['거래일자'].isin(df_date)]\n",
    "df_2week = df_2week[['거래일자', '종목명', '종가', '1일수익률','시장ID', '종목코드', '거래량', '상장일',\n",
    "       '업종구분', '제조업구분']]\n",
    "test_a = df_2week['종목명'].unique()\n",
    "IndexName_a = test_a.tolist()\n",
    "result =pd.DataFrame({})\n",
    "for i in range(len(IndexName_a)) :\n",
    "    plus = df_2week[df_2week['종목명']==IndexName_a[i]]\n",
    "    plus['변동성'] = plus['1일수익률'].std()\n",
    "    plus['기간내수익률'] = plus['1일수익률'].mean()\n",
    "    plus['샤프지수'] = (plus['1일수익률']-0.5)/plus['변동성'] #0.5= 당시 기준금리\n",
    "    plus['종목별샤프지수평균'] = plus['샤프지수'].mean()\n",
    "    result = result.append(plus,ignore_index = True)\n",
    "    continue\n",
    "df_return = result\n",
    "df_return = df_return.dropna()\n",
    "test_b = df_return['제조업구분'].unique()\n",
    "IndexName_b = test_b.tolist()\n",
    "result =pd.DataFrame({})\n",
    "for i in range(len(IndexName_b)) :\n",
    "    ex =  df_return[df_return['제조업구분']==IndexName_b[i]]\n",
    "    test_c = ex['거래일자'].unique()\n",
    "    IndexName_c = test_c.tolist()\n",
    "    for j in range(len(IndexName_c)) :\n",
    "        plus = ex[ex['거래일자']==IndexName_c[j]]\n",
    "        plus['제조업별1일평균수익률'] = plus['1일수익률'].mean()\n",
    "        result = result.append(plus,ignore_index = True)\n",
    "        continue\n",
    "mft_2week = result\n",
    "test = mft_2week['제조업구분'].unique()\n",
    "IndexName = test.tolist()\n",
    "result =pd.DataFrame({})\n",
    "for i in range(len(IndexName)) :\n",
    "    plus =  mft_2week[mft_2week['제조업구분']==IndexName[i]]\n",
    "    plus['제조업별기간내수익률'] = plus['제조업별1일평균수익률'].mean()\n",
    "    plus['제조업별변동성'] = plus['제조업별1일평균수익률'].std()\n",
    "    plus['제조업별샤프지수'] = (plus['제조업별1일평균수익률']-0.5)/plus['제조업별변동성']\n",
    "    plus['제조업별평균샤프지수'] = plus['제조업별샤프지수'].mean()\n",
    "    result = result.append(plus,ignore_index=True)\n",
    "    continue\n",
    "data_2week = result"
   ]
  },
  {
   "cell_type": "markdown",
   "id": "3761cf07",
   "metadata": {},
   "source": [
    "- 2주 동안의 데이터를 가져왔습니다."
   ]
  },
  {
   "cell_type": "code",
   "execution_count": 26,
   "id": "8216dfe7",
   "metadata": {},
   "outputs": [],
   "source": [
    "data_2week = data_2week[data_2week['기간내수익률']>=-0.152707]\n",
    "data_2week = data_2week[data_2week['종목별샤프지수평균']>=-0.939562]\n",
    "cor_2week = data_2week[['종목명','1일수익률']]\n",
    "ex = data_2week['종목명'].unique()\n",
    "IndexName_ex = ex.tolist()\n",
    "for i in range(len(IndexName_ex)):\n",
    "    test_ex =  data_2week[data_2week['종목명']==IndexName_ex[i]]\n",
    "    step_1 = test_ex['1일수익률']\n",
    "    step_2 = step_1.tolist()\n",
    "    step_3 = pd.DataFrame(step_2)\n",
    "    if i == 0 :\n",
    "        test_data = step_3\n",
    "    else :\n",
    "        test_data = pd.concat([test_data,step_3],axis=1)\n",
    "saum_2week = test_data\n",
    "colname = data_2week['종목명'].unique()\n",
    "colname = colname.tolist()\n",
    "saum_2week.columns = colname\n",
    "corr_df = saum_2week.corr()\n",
    "corr_df = corr_df.apply(lambda x: round(x ,2))\n",
    "ss_2week=corr_df[['삼성전자보통주']]\n",
    "ss_2week=ss_2week.sort_values('삼성전자보통주')"
   ]
  },
  {
   "cell_type": "markdown",
   "id": "2d83b946",
   "metadata": {},
   "source": [
    "- 2주동안 삼성전자 상관분석"
   ]
  },
  {
   "cell_type": "code",
   "execution_count": 27,
   "id": "4c546d0f",
   "metadata": {},
   "outputs": [],
   "source": [
    "pft_2week = data_2week[['거래일자', '제조업별1일평균수익률', '제조업별기간내수익률', '제조업별변동성', '제조업별샤프지수', '종목코드',\n",
    "       '업종구분', '제조업구분','제조업별평균샤프지수']]\n",
    "pft_2week = pft_2week[pft_2week['제조업별기간내수익률']>=0.255412]\n",
    "pft_2week= pft_2week[pft_2week['제조업별평균샤프지수']>=-0.510964]\n",
    "df2_pdt = pft_2week[['제조업구분','제조업별1일평균수익률']]\n",
    "ex = df2_pdt['제조업구분'].unique()\n",
    "IndexName_ex = ex.tolist()\n",
    "for i in range(len(IndexName_ex)):\n",
    "    test_ex =  pft_2week[pft_2week['제조업구분']==IndexName_ex[i]]\n",
    "    step_1 = test_ex['제조업별1일평균수익률']\n",
    "    step_2 = step_1.tolist()\n",
    "    step_3 = pd.DataFrame(step_2)\n",
    "    if i == 0 :\n",
    "        test_data = step_3\n",
    "    else :\n",
    "        test_data = pd.concat([test_data,step_3],axis=1)\n",
    "pdt2_cor = test_data\n",
    "ex = pft_2week['제조업구분'].unique()\n",
    "IndexName_ex = ex.tolist()\n",
    "pdt2_cor.columns = ex\n",
    "del pdt2_cor['수도, 하수 및 폐기물 처리, 원료 재생업']\n",
    "corr_df = pdt2_cor.corr()\n",
    "corr_df = corr_df.apply(lambda x: round(x ,2))\n",
    "pdt2_cor=corr_df[['제조업']]\n",
    "pdt2_cor=pdt_cor.sort_values('제조업') "
   ]
  },
  {
   "cell_type": "markdown",
   "id": "ac456ee3",
   "metadata": {},
   "source": [
    "- 2주동안 제조업 상관분석"
   ]
  },
  {
   "cell_type": "code",
   "execution_count": 28,
   "id": "5a6182f6",
   "metadata": {},
   "outputs": [],
   "source": [
    "plus = ss_mot\n",
    "plus = plus .reset_index()\n",
    "plus.columns =['종목명','상관계수']\n",
    "data_plus = df_mft\n",
    "df_date = [20210331]\n",
    "data_plus=data_plus[data_plus['거래일자'].isin(df_date)]\n",
    "data_plus= data_plus[['시장ID', '종목코드', '종목명', '상장일', '업종구분', '제조업구분',\n",
    "    '변동성', '기간내수익률','종목별샤프지수평균']]\n",
    "data_plus = data_plus[data_plus['기간내수익률']>=-0.016834]\n",
    "data_plus= data_plus[data_plus['종목별샤프지수평균']>=-0.283469]\n",
    "ex = plus['종목명'].unique()\n",
    "IndexName_ex = ex.tolist()\n",
    "result = pd.DataFrame({})\n",
    "for i in range(len(IndexName_ex)):\n",
    "    name =IndexName_ex[i]\n",
    "    test_a = data_plus[data_plus['종목명']==name]\n",
    "    result = result.append(test_a,ignore_index=True)\n",
    "    continue\n",
    "df_list = result\n",
    "ex = df_list['종목명'].unique()\n",
    "IndexName_ex = ex.tolist()\n",
    "result = pd.DataFrame({})\n",
    "for i in range(len(IndexName_ex)):\n",
    "    name =IndexName_ex[i]\n",
    "    test_a = plus[plus['종목명']==name]\n",
    "    result = result.append(test_a,ignore_index=True)\n",
    "    continue\n",
    "shape_list = result\n",
    "df_list=df_list.sort_values('종목명')\n",
    "shape_list=shape_list.sort_values('종목명')\n",
    "num = shape_list['상관계수']\n",
    "num = num.tolist()\n",
    "df_list['상관계수'] = num"
   ]
  },
  {
   "cell_type": "code",
   "execution_count": 29,
   "id": "5bc41808",
   "metadata": {},
   "outputs": [],
   "source": [
    "plus = ss_2week\n",
    "plus = plus .reset_index()\n",
    "plus.columns =['종목명','상관계수']\n",
    "data_plus = df_mft\n",
    "df_date = [20210331]\n",
    "data_plus=data_plus[data_plus['거래일자'].isin(df_date)]\n",
    "data_plus= data_plus[['시장ID', '종목코드', '종목명', '상장일', '업종구분', '제조업구분',\n",
    "    '변동성', '기간내수익률','종목별샤프지수평균']]\n",
    "data_plus = data_plus[data_plus['기간내수익률']>=-0.152707]\n",
    "data_plus= data_plus[data_plus['종목별샤프지수평균']>=-0.939562]\n",
    "ex = plus['종목명'].unique()\n",
    "IndexName_ex = ex.tolist()\n",
    "result = pd.DataFrame({})\n",
    "for i in range(len(IndexName_ex)):\n",
    "    name =IndexName_ex[i]\n",
    "    test_a = data_plus[data_plus['종목명']==name]\n",
    "    result = result.append(test_a,ignore_index=True)\n",
    "    continue\n",
    "df_list2 = result\n",
    "ex = df_list2['종목명'].unique()\n",
    "IndexName_ex = ex.tolist()\n",
    "result = pd.DataFrame({})\n",
    "for i in range(len(IndexName_ex)):\n",
    "    name =IndexName_ex[i]\n",
    "    test_a = plus[plus['종목명']==name]\n",
    "    result = result.append(test_a,ignore_index=True)\n",
    "    continue\n",
    "shape_list = result\n",
    "df_list2=df_list2.sort_values('종목명')\n",
    "shape_list=shape_list.sort_values('종목명')\n",
    "num = shape_list['상관계수']\n",
    "num = num.tolist()\n",
    "df_list2['상관계수'] = num"
   ]
  },
  {
   "cell_type": "code",
   "execution_count": 30,
   "id": "3dc9088d",
   "metadata": {},
   "outputs": [],
   "source": [
    "a = df_list.sort_values('상관계수',ascending=False)\n",
    "plus_a = a.head(15)\n",
    "plus_b = a.tail(15)\n",
    "df_a = pd.concat([plus_a,plus_b])\n",
    "b = df_list2.sort_values('상관계수',ascending=False)\n",
    "plus_a = b.head(15)\n",
    "plus_b = b.tail(15)\n",
    "df_b = pd.concat([plus_a,plus_b])"
   ]
  },
  {
   "cell_type": "markdown",
   "id": "e053446c",
   "metadata": {},
   "source": [
    "- 기간별로 상관계수 상,하위 50개씩 100개종목 선정\n",
    "- df_a = 3개월 간 상관계수 상,하위50개 종목\n",
    "- df_b = 2주 간 상관계수 상,하위50개 종목"
   ]
  },
  {
   "cell_type": "code",
   "execution_count": 32,
   "id": "2aa7201c",
   "metadata": {},
   "outputs": [
    {
     "data": {
      "text/html": [
       "<div>\n",
       "<style scoped>\n",
       "    .dataframe tbody tr th:only-of-type {\n",
       "        vertical-align: middle;\n",
       "    }\n",
       "\n",
       "    .dataframe tbody tr th {\n",
       "        vertical-align: top;\n",
       "    }\n",
       "\n",
       "    .dataframe thead th {\n",
       "        text-align: right;\n",
       "    }\n",
       "</style>\n",
       "<table border=\"1\" class=\"dataframe\">\n",
       "  <thead>\n",
       "    <tr style=\"text-align: right;\">\n",
       "      <th></th>\n",
       "      <th>시장ID</th>\n",
       "      <th>종목코드</th>\n",
       "      <th>종목명</th>\n",
       "      <th>상장일</th>\n",
       "      <th>업종구분</th>\n",
       "      <th>제조업구분</th>\n",
       "      <th>변동성</th>\n",
       "      <th>기간내수익률</th>\n",
       "      <th>종목별샤프지수평균</th>\n",
       "      <th>상관계수</th>\n",
       "    </tr>\n",
       "  </thead>\n",
       "  <tbody>\n",
       "    <tr>\n",
       "      <th>1196</th>\n",
       "      <td>STK</td>\n",
       "      <td>KR7005930003</td>\n",
       "      <td>삼성전자보통주</td>\n",
       "      <td>19750611</td>\n",
       "      <td>통신 및 방송 장비 제조업</td>\n",
       "      <td>제조업</td>\n",
       "      <td>1.823248</td>\n",
       "      <td>-0.016834</td>\n",
       "      <td>-0.283469</td>\n",
       "      <td>1.00</td>\n",
       "    </tr>\n",
       "    <tr>\n",
       "      <th>1195</th>\n",
       "      <td>STK</td>\n",
       "      <td>KR7005380001</td>\n",
       "      <td>현대자동차보통주</td>\n",
       "      <td>19740628</td>\n",
       "      <td>자동차용 엔진 및 자동차 제조업</td>\n",
       "      <td>제조업</td>\n",
       "      <td>3.730085</td>\n",
       "      <td>0.148155</td>\n",
       "      <td>-0.094326</td>\n",
       "      <td>0.75</td>\n",
       "    </tr>\n",
       "    <tr>\n",
       "      <th>1193</th>\n",
       "      <td>KSQ</td>\n",
       "      <td>KR7012340006</td>\n",
       "      <td>뉴인텍</td>\n",
       "      <td>19970212</td>\n",
       "      <td>전자부품 제조업</td>\n",
       "      <td>제조업</td>\n",
       "      <td>5.614212</td>\n",
       "      <td>0.445535</td>\n",
       "      <td>-0.009701</td>\n",
       "      <td>0.68</td>\n",
       "    </tr>\n",
       "    <tr>\n",
       "      <th>1194</th>\n",
       "      <td>KSQ</td>\n",
       "      <td>KR7007820004</td>\n",
       "      <td>에스엠코어</td>\n",
       "      <td>20111108</td>\n",
       "      <td>일반 목적용 기계 제조업</td>\n",
       "      <td>제조업</td>\n",
       "      <td>2.495760</td>\n",
       "      <td>0.075944</td>\n",
       "      <td>-0.169911</td>\n",
       "      <td>0.68</td>\n",
       "    </tr>\n",
       "    <tr>\n",
       "      <th>1191</th>\n",
       "      <td>STK</td>\n",
       "      <td>KR7060980000</td>\n",
       "      <td>한라홀딩스보통주</td>\n",
       "      <td>20100519</td>\n",
       "      <td>기타 금융업</td>\n",
       "      <td>금융 및 보험업</td>\n",
       "      <td>3.233591</td>\n",
       "      <td>0.135979</td>\n",
       "      <td>-0.112575</td>\n",
       "      <td>0.64</td>\n",
       "    </tr>\n",
       "  </tbody>\n",
       "</table>\n",
       "</div>"
      ],
      "text/plain": [
       "     시장ID          종목코드       종목명       상장일               업종구분     제조업구분  \\\n",
       "1196  STK  KR7005930003   삼성전자보통주  19750611     통신 및 방송 장비 제조업       제조업   \n",
       "1195  STK  KR7005380001  현대자동차보통주  19740628  자동차용 엔진 및 자동차 제조업       제조업   \n",
       "1193  KSQ  KR7012340006       뉴인텍  19970212           전자부품 제조업       제조업   \n",
       "1194  KSQ  KR7007820004     에스엠코어  20111108      일반 목적용 기계 제조업       제조업   \n",
       "1191  STK  KR7060980000  한라홀딩스보통주  20100519             기타 금융업  금융 및 보험업   \n",
       "\n",
       "           변동성    기간내수익률  종목별샤프지수평균  상관계수  \n",
       "1196  1.823248 -0.016834  -0.283469  1.00  \n",
       "1195  3.730085  0.148155  -0.094326  0.75  \n",
       "1193  5.614212  0.445535  -0.009701  0.68  \n",
       "1194  2.495760  0.075944  -0.169911  0.68  \n",
       "1191  3.233591  0.135979  -0.112575  0.64  "
      ]
     },
     "execution_count": 32,
     "metadata": {},
     "output_type": "execute_result"
    }
   ],
   "source": [
    "df_a.head(5)"
   ]
  },
  {
   "cell_type": "code",
   "execution_count": 33,
   "id": "0ad58cb2",
   "metadata": {},
   "outputs": [
    {
     "data": {
      "text/html": [
       "<div>\n",
       "<style scoped>\n",
       "    .dataframe tbody tr th:only-of-type {\n",
       "        vertical-align: middle;\n",
       "    }\n",
       "\n",
       "    .dataframe tbody tr th {\n",
       "        vertical-align: top;\n",
       "    }\n",
       "\n",
       "    .dataframe thead th {\n",
       "        text-align: right;\n",
       "    }\n",
       "</style>\n",
       "<table border=\"1\" class=\"dataframe\">\n",
       "  <thead>\n",
       "    <tr style=\"text-align: right;\">\n",
       "      <th></th>\n",
       "      <th>시장ID</th>\n",
       "      <th>종목코드</th>\n",
       "      <th>종목명</th>\n",
       "      <th>상장일</th>\n",
       "      <th>업종구분</th>\n",
       "      <th>제조업구분</th>\n",
       "      <th>변동성</th>\n",
       "      <th>기간내수익률</th>\n",
       "      <th>종목별샤프지수평균</th>\n",
       "      <th>상관계수</th>\n",
       "    </tr>\n",
       "  </thead>\n",
       "  <tbody>\n",
       "    <tr>\n",
       "      <th>1205</th>\n",
       "      <td>STK</td>\n",
       "      <td>KR7005930003</td>\n",
       "      <td>삼성전자보통주</td>\n",
       "      <td>19750611</td>\n",
       "      <td>통신 및 방송 장비 제조업</td>\n",
       "      <td>제조업</td>\n",
       "      <td>1.823248</td>\n",
       "      <td>-0.016834</td>\n",
       "      <td>-0.283469</td>\n",
       "      <td>1.00</td>\n",
       "    </tr>\n",
       "    <tr>\n",
       "      <th>1204</th>\n",
       "      <td>KSQ</td>\n",
       "      <td>KR7187790001</td>\n",
       "      <td>나노</td>\n",
       "      <td>20140508</td>\n",
       "      <td>기초 화학물질 제조업</td>\n",
       "      <td>제조업</td>\n",
       "      <td>2.171939</td>\n",
       "      <td>0.045693</td>\n",
       "      <td>-0.209171</td>\n",
       "      <td>0.83</td>\n",
       "    </tr>\n",
       "    <tr>\n",
       "      <th>1203</th>\n",
       "      <td>KSQ</td>\n",
       "      <td>KR7007680002</td>\n",
       "      <td>대원</td>\n",
       "      <td>20171201</td>\n",
       "      <td>건물 건설업</td>\n",
       "      <td>건설업</td>\n",
       "      <td>1.805630</td>\n",
       "      <td>0.044461</td>\n",
       "      <td>-0.252288</td>\n",
       "      <td>0.81</td>\n",
       "    </tr>\n",
       "    <tr>\n",
       "      <th>1202</th>\n",
       "      <td>STK</td>\n",
       "      <td>KR7003200003</td>\n",
       "      <td>일신방직보통주</td>\n",
       "      <td>19730523</td>\n",
       "      <td>방적 및 가공사 제조업</td>\n",
       "      <td>제조업</td>\n",
       "      <td>1.717139</td>\n",
       "      <td>0.282199</td>\n",
       "      <td>-0.126839</td>\n",
       "      <td>0.76</td>\n",
       "    </tr>\n",
       "    <tr>\n",
       "      <th>1201</th>\n",
       "      <td>KSQ</td>\n",
       "      <td>KR7300080009</td>\n",
       "      <td>플리토</td>\n",
       "      <td>20190717</td>\n",
       "      <td>자료처리, 호스팅, 포털 및 기타 인터넷 정보매개 서비스업</td>\n",
       "      <td>정보통신업</td>\n",
       "      <td>2.910813</td>\n",
       "      <td>0.150983</td>\n",
       "      <td>-0.119904</td>\n",
       "      <td>0.75</td>\n",
       "    </tr>\n",
       "  </tbody>\n",
       "</table>\n",
       "</div>"
      ],
      "text/plain": [
       "     시장ID          종목코드      종목명       상장일                              업종구분  \\\n",
       "1205  STK  KR7005930003  삼성전자보통주  19750611                    통신 및 방송 장비 제조업   \n",
       "1204  KSQ  KR7187790001       나노  20140508                       기초 화학물질 제조업   \n",
       "1203  KSQ  KR7007680002       대원  20171201                            건물 건설업   \n",
       "1202  STK  KR7003200003  일신방직보통주  19730523                      방적 및 가공사 제조업   \n",
       "1201  KSQ  KR7300080009      플리토  20190717  자료처리, 호스팅, 포털 및 기타 인터넷 정보매개 서비스업   \n",
       "\n",
       "      제조업구분       변동성    기간내수익률  종목별샤프지수평균  상관계수  \n",
       "1205    제조업  1.823248 -0.016834  -0.283469  1.00  \n",
       "1204    제조업  2.171939  0.045693  -0.209171  0.83  \n",
       "1203    건설업  1.805630  0.044461  -0.252288  0.81  \n",
       "1202    제조업  1.717139  0.282199  -0.126839  0.76  \n",
       "1201  정보통신업  2.910813  0.150983  -0.119904  0.75  "
      ]
     },
     "execution_count": 33,
     "metadata": {},
     "output_type": "execute_result"
    }
   ],
   "source": [
    "df_b.head(5)"
   ]
  },
  {
   "cell_type": "code",
   "execution_count": 34,
   "id": "6c1849f9",
   "metadata": {},
   "outputs": [
    {
     "data": {
      "image/png": "[encoded data removed]",
      "text/plain": [
       "<Figure size 720x720 with 2 Axes>"
      ]
     },
     "metadata": {
      "needs_background": "light"
     },
     "output_type": "display_data"
    }
   ],
   "source": [
    "fig = plt.figure(figsize=(10,10))\n",
    "plt.subplot(221)\n",
    "plt.scatter( df_a['기간내수익률'], df_a['상관계수'])\n",
    "plt.xlabel('기간내수익률')\n",
    "plt.ylabel('삼성전자와의 상관계수')\n",
    "plt.title('3개월 간 삼성전자 대비 종목')\n",
    "plt.subplot(222)\n",
    "plt.scatter( df_b['기간내수익률'], df_b['상관계수'])\n",
    "plt.xlabel('기간내수익률')\n",
    "plt.title('2주 간 삼성전자 대비 종목')\n",
    "plt.show()"
   ]
  },
  {
   "cell_type": "markdown",
   "id": "3df31a69",
   "metadata": {},
   "source": [
    "- 상관계수와 기간 내 수익률의 시각화\n",
    "- 상관계수 1에 가까운 종목 : 비슷한 수익률의 방향을 가진 종목\n",
    "- 상관계수 -1에 가까운 종목 : 반대되는 수익률의 방향을 가진 종목\n",
    "- 상관계수가 -1에 가까운 종목과 1에 가까운 종목을 선정하여 투자한다면 개인투자자에게 리스크를 줄여줄 수 있습니다."
   ]
  },
  {
   "cell_type": "code",
   "execution_count": 20,
   "id": "7429da41",
   "metadata": {},
   "outputs": [
    {
     "data": {
      "text/html": [
       "<div>\n",
       "<style scoped>\n",
       "    .dataframe tbody tr th:only-of-type {\n",
       "        vertical-align: middle;\n",
       "    }\n",
       "\n",
       "    .dataframe tbody tr th {\n",
       "        vertical-align: top;\n",
       "    }\n",
       "\n",
       "    .dataframe thead th {\n",
       "        text-align: right;\n",
       "    }\n",
       "</style>\n",
       "<table border=\"1\" class=\"dataframe\">\n",
       "  <thead>\n",
       "    <tr style=\"text-align: right;\">\n",
       "      <th></th>\n",
       "      <th>제조업</th>\n",
       "    </tr>\n",
       "  </thead>\n",
       "  <tbody>\n",
       "    <tr>\n",
       "      <th>광업</th>\n",
       "      <td>0.13</td>\n",
       "    </tr>\n",
       "    <tr>\n",
       "      <th>예술, 스포츠 및 여가관련 서비스업</th>\n",
       "      <td>0.63</td>\n",
       "    </tr>\n",
       "    <tr>\n",
       "      <th>교육 서비스업</th>\n",
       "      <td>0.63</td>\n",
       "    </tr>\n",
       "    <tr>\n",
       "      <th>농업, 임업 및 어업</th>\n",
       "      <td>0.70</td>\n",
       "    </tr>\n",
       "    <tr>\n",
       "      <th>운수 및 창고업</th>\n",
       "      <td>0.71</td>\n",
       "    </tr>\n",
       "    <tr>\n",
       "      <th>건설업</th>\n",
       "      <td>0.82</td>\n",
       "    </tr>\n",
       "    <tr>\n",
       "      <th>금융 및 보험업</th>\n",
       "      <td>0.86</td>\n",
       "    </tr>\n",
       "    <tr>\n",
       "      <th>정보통신업</th>\n",
       "      <td>0.94</td>\n",
       "    </tr>\n",
       "    <tr>\n",
       "      <th>도매 및 소매업</th>\n",
       "      <td>0.95</td>\n",
       "    </tr>\n",
       "    <tr>\n",
       "      <th>제조업</th>\n",
       "      <td>1.00</td>\n",
       "    </tr>\n",
       "  </tbody>\n",
       "</table>\n",
       "</div>"
      ],
      "text/plain": [
       "                       제조업\n",
       "광업                    0.13\n",
       "예술, 스포츠 및 여가관련 서비스업   0.63\n",
       "교육 서비스업               0.63\n",
       "농업, 임업 및 어업           0.70\n",
       "운수 및 창고업              0.71\n",
       "건설업                   0.82\n",
       "금융 및 보험업              0.86\n",
       "정보통신업                 0.94\n",
       "도매 및 소매업              0.95\n",
       "제조업                   1.00"
      ]
     },
     "execution_count": 20,
     "metadata": {},
     "output_type": "execute_result"
    }
   ],
   "source": [
    "pdt_cor"
   ]
  },
  {
   "cell_type": "code",
   "execution_count": 21,
   "id": "92e4e7f5",
   "metadata": {},
   "outputs": [
    {
     "data": {
      "text/html": [
       "<div>\n",
       "<style scoped>\n",
       "    .dataframe tbody tr th:only-of-type {\n",
       "        vertical-align: middle;\n",
       "    }\n",
       "\n",
       "    .dataframe tbody tr th {\n",
       "        vertical-align: top;\n",
       "    }\n",
       "\n",
       "    .dataframe thead th {\n",
       "        text-align: right;\n",
       "    }\n",
       "</style>\n",
       "<table border=\"1\" class=\"dataframe\">\n",
       "  <thead>\n",
       "    <tr style=\"text-align: right;\">\n",
       "      <th></th>\n",
       "      <th>제조업</th>\n",
       "    </tr>\n",
       "  </thead>\n",
       "  <tbody>\n",
       "    <tr>\n",
       "      <th>광업</th>\n",
       "      <td>0.13</td>\n",
       "    </tr>\n",
       "    <tr>\n",
       "      <th>예술, 스포츠 및 여가관련 서비스업</th>\n",
       "      <td>0.63</td>\n",
       "    </tr>\n",
       "    <tr>\n",
       "      <th>교육 서비스업</th>\n",
       "      <td>0.63</td>\n",
       "    </tr>\n",
       "    <tr>\n",
       "      <th>농업, 임업 및 어업</th>\n",
       "      <td>0.70</td>\n",
       "    </tr>\n",
       "    <tr>\n",
       "      <th>운수 및 창고업</th>\n",
       "      <td>0.71</td>\n",
       "    </tr>\n",
       "    <tr>\n",
       "      <th>건설업</th>\n",
       "      <td>0.82</td>\n",
       "    </tr>\n",
       "    <tr>\n",
       "      <th>금융 및 보험업</th>\n",
       "      <td>0.86</td>\n",
       "    </tr>\n",
       "    <tr>\n",
       "      <th>정보통신업</th>\n",
       "      <td>0.94</td>\n",
       "    </tr>\n",
       "    <tr>\n",
       "      <th>도매 및 소매업</th>\n",
       "      <td>0.95</td>\n",
       "    </tr>\n",
       "    <tr>\n",
       "      <th>제조업</th>\n",
       "      <td>1.00</td>\n",
       "    </tr>\n",
       "  </tbody>\n",
       "</table>\n",
       "</div>"
      ],
      "text/plain": [
       "                       제조업\n",
       "광업                    0.13\n",
       "예술, 스포츠 및 여가관련 서비스업   0.63\n",
       "교육 서비스업               0.63\n",
       "농업, 임업 및 어업           0.70\n",
       "운수 및 창고업              0.71\n",
       "건설업                   0.82\n",
       "금융 및 보험업              0.86\n",
       "정보통신업                 0.94\n",
       "도매 및 소매업              0.95\n",
       "제조업                   1.00"
      ]
     },
     "execution_count": 21,
     "metadata": {},
     "output_type": "execute_result"
    }
   ],
   "source": [
    "pdt2_cor"
   ]
  },
  {
   "cell_type": "markdown",
   "id": "c4d338e6",
   "metadata": {},
   "source": [
    "- pdt_cor = 3개월간 제조업 대비 상관관계\n",
    "- pdt2_cor = 2주간 제조업 대비 상관관계"
   ]
  },
  {
   "cell_type": "code",
   "execution_count": 22,
   "id": "01a29d8f",
   "metadata": {},
   "outputs": [],
   "source": [
    "data_2week['거래일자'] = data_2week['거래일자'].astype('str')\n",
    "data_2week['거래일자'] = pd.to_datetime(data_2week['거래일자'])\n",
    "eventname = ['나노','삼성전자보통주']\n",
    "result = pd.DataFrame({})\n",
    "for i in range(len(eventname)):\n",
    "    name =eventname[i]\n",
    "    test_a = data_2week[data_2week['종목명']==name]\n",
    "    result = result.append(test_a,ignore_index=True)\n",
    "    continue\n",
    "nano = result\n",
    "eventname = ['셀리드','삼성전자보통주']\n",
    "result = pd.DataFrame({})\n",
    "for i in range(len(eventname)):\n",
    "    name =eventname[i]\n",
    "    test_a = data_2week[data_2week['종목명']==name]\n",
    "    result = result.append(test_a,ignore_index=True)\n",
    "    continue\n",
    "sellead= result"
   ]
  },
  {
   "cell_type": "markdown",
   "id": "615a8e1f",
   "metadata": {},
   "source": [
    "- 2주간 삼성전자와 상관계수가 가장 크거나 작은 종목을 선정해서 시간별 수익률로 그래프 그렸습니다."
   ]
  },
  {
   "cell_type": "code",
   "execution_count": 23,
   "id": "92b8580f",
   "metadata": {},
   "outputs": [
    {
     "data": {
      "text/plain": [
       "<AxesSubplot:xlabel='거래일자', ylabel='1일수익률'>"
      ]
     },
     "execution_count": 23,
     "metadata": {},
     "output_type": "execute_result"
    },
    {
     "data": {
      "image/png": "[encoded data removed]",
      "text/plain": [
       "<Figure size 432x288 with 1 Axes>"
      ]
     },
     "metadata": {
      "needs_background": "light"
     },
     "output_type": "display_data"
    }
   ],
   "source": [
    "sns.lineplot(x=\"거래일자\",y=\"1일수익률\",hue=\"종목명\",style=\"종목명\",data=nano)"
   ]
  },
  {
   "cell_type": "markdown",
   "id": "54daae4f",
   "metadata": {},
   "source": [
    "- 2주 ( 2022.03.17 ~ 03.31 ) 간 나노( 상관계수 : 0.83 )는 삼성전자와 비슷한 수익률의 흐름을 보이고 있다 "
   ]
  },
  {
   "cell_type": "code",
   "execution_count": 24,
   "id": "d81c5d4d",
   "metadata": {},
   "outputs": [
    {
     "data": {
      "text/plain": [
       "<AxesSubplot:xlabel='거래일자', ylabel='1일수익률'>"
      ]
     },
     "execution_count": 24,
     "metadata": {},
     "output_type": "execute_result"
    },
    {
     "data": {
      "image/png": "[encoded data removed]",
      "text/plain": [
       "<Figure size 432x288 with 1 Axes>"
      ]
     },
     "metadata": {
      "needs_background": "light"
     },
     "output_type": "display_data"
    }
   ],
   "source": [
    "sns.lineplot(x=\"거래일자\",y=\"1일수익률\",hue=\"종목명\",style=\"종목명\",data=sellead)"
   ]
  },
  {
   "cell_type": "markdown",
   "id": "28718939",
   "metadata": {},
   "source": [
    "- 2주 ( 2022.03.17 ~ 03.31 ) 간 셀리드( 상관계수 : -0.72 )는 삼성전자와는 반대되는 수익률의 흐름을 보이고 있다. \n",
    "- 삼성전자보다 기간 내 수익률, 샤프지수가 높은 종목들이므로 상관계수에 대한 정보를 얻은 후 종목 선정을 한다면, 분산투자의 리스크를 줄일 수 있다. "
   ]
  },
  {
   "cell_type": "markdown",
   "id": "8dc706b8",
   "metadata": {},
   "source": [
    "# 네이버 뉴스 크롤링하기"
   ]
  },
  {
   "cell_type": "code",
   "execution_count": null,
   "id": "823aed6a",
   "metadata": {},
   "outputs": [],
   "source": [
    "# 페이지 url 형식에 맞게 바꾸어 주는 함수 만들기\n",
    "  #입력된 수를 1, 11, 21, 31 ...만들어 주는 함수\n",
    "def makePgNum(num):\n",
    "    if num == 1:\n",
    "        return num\n",
    "    elif num == 0:\n",
    "        return num+1\n",
    "    else:\n",
    "        return num+9*(num-1)\n",
    "\n",
    "# 크롤링할 url 생성하는 함수 만들기(검색어, 크롤링 시작 페이지, 크롤링 종료 페이지)\n",
    "\n",
    "def makeUrl(search, start_dt, start_dt1,start_pg ,end_pg):\n",
    "    if start_pg == end_pg:\n",
    "        start_page = makePgNum(start_pg)\n",
    "        url = \"https://search.naver.com/search.naver?where=news&sm=tab_pge&query=\" + search +\"&sort=0&photo=0&field=0&pd=3&ds=\" + start_dt +\"&de=\" + start_dt+\"&cluster_rank=27&mynews=0&office_type=0&office_section_code=0&news_office_checked=&nso=so:r,p:from\"+ start_dt1+\"to\"+start_dt1+\",a:all&start=\"+str(start_page)\n",
    "        print(\"생성url: \", url)\n",
    "        return url\n",
    "    else:\n",
    "        urls = []\n",
    "        for i in range(start_pg, end_pg + 1):\n",
    "            page = makePgNum(i)\n",
    "            url = \"https://search.naver.com/search.naver?where=news&sm=tab_pge&query=\" + search +\"&sort=0&photo=0&field=0&pd=3&ds=\" + start_dt +\"&de=\" + start_dt+\"&cluster_rank=27&mynews=0&office_type=0&office_section_code=0&news_office_checked=&nso=so:r,p:from\"+ start_dt1+\"to\"+start_dt1+\",a:all&start=\"+str(page)\n",
    "            urls.append(url)\n",
    "        print(\"생성url: \", urls)\n",
    "        return urls    \n",
    "\n",
    "# html에서 원하는 속성 추출하는 함수 만들기 (기사, 추출하려는 속성값)\n",
    "def news_attrs_crawler(articles,attrs):\n",
    "    attrs_content=[]\n",
    "    for i in articles:\n",
    "        attrs_content.append(i.attrs[attrs])\n",
    "    return attrs_content\n",
    "\n",
    "# ConnectionError방지\n",
    "headers = {\"User-Agent\": \"Mozilla/5.0 (Windows NT 10.0; Win64; x64) Chrome/98.0.4758.102\"}\n",
    "\n",
    "#html생성해서 기사크롤링하는 함수 만들기(제목,url): 2개의 값을 반환함(제목, 링크)\n",
    "def articles_crawler(url):\n",
    "    #html 불러오기\n",
    "    original_html = requests.get(i,headers=headers)\n",
    "    html = BeautifulSoup(original_html.text, \"html.parser\")\n",
    "    # 검색결과\n",
    "    articles = html.select(\"div.group_news > ul.list_news > li div.news_area > a\")\n",
    "    title = news_attrs_crawler(articles,'title')\n",
    "    url_naver = html.select(\"div.group_news > ul.list_news > li div.news_area > div.news_info > div.info_group > a.info\")\n",
    "    url = news_attrs_crawler(url_naver,'href')\n",
    "    return title, url\n",
    "\n",
    "\n",
    "#####뉴스크롤링 시작#####\n",
    "\n",
    "#검색어 입력\n",
    "search = input(\"검색할 키워드를 입력해주세요:\")\n",
    "# 검색 시작할 페이지 입력\n",
    "page = int(input(\"\\n크롤링할 시작 페이지를 입력해주세요. ex)1(숫자만입력):\"))  # ex)1 =1페이지,2=2페이지...\n",
    "print(\"\\n크롤링할 시작 페이지: \", page, \"페이지\")\n",
    "# 검색 종료할 페이지 입력\n",
    "page2 = int(input(\"\\n크롤링할 종료 페이지를 입력해주세요. ex)1(숫자만입력):\"))  # ex)1 =1페이지,2=2페이지...\n",
    "print(\"\\n크롤링할 종료 페이지: \", page2, \"페이지\")\n",
    "# 검색 시작할 페이지 입력\n",
    "start_dt= input(\"\\n크롤링할  날짜를 입력해주세요. ex)2022.07.01:\")  # ex)2022.07.01\n",
    "print(\"\\n크롤링할 시작 날짜 : \", start_dt, \"페이지\")\n",
    "# 검색 시작할 페이지 입력\n",
    "#start_dt1 = input(\"\\n크롤링할  날짜를 입력해주세요. ex)20220701:\")  # ex) 20220701\n",
    "#print(\"\\n크롤링할 시작 날짜 : \", start_dt1, \"페이지\") \n",
    "start_dt1 = start_dt.replace(\".\",\"\")\n",
    "\n",
    "# naver url 생성\n",
    "url = makeUrl(search,start_dt, start_dt1,page, page2)\n",
    "\n",
    "#뉴스 크롤러 실행\n",
    "news_titles = []\n",
    "news_url =[]\n",
    "news_contents =[]\n",
    "news_dates = []\n",
    "for i in url:\n",
    "    title, url = articles_crawler(url)\n",
    "    news_titles.append(title)\n",
    "    news_url.append(url)\n",
    "\n",
    "\n",
    "#제목, 링크, 내용 1차원 리스트로 꺼내는 함수 생성\n",
    "def makeList(newlist, content):\n",
    "    for i in content:\n",
    "        for j in i:\n",
    "            newlist.append(j)\n",
    "    return newlist\n",
    "\n",
    "    \n",
    "#제목, 링크, 내용 담을 리스트 생성\n",
    "news_titles_1, news_url_1 = [],[]\n",
    "\n",
    "#1차원 리스트로 만들기(내용 제외)\n",
    "makeList(news_titles_1,news_titles)\n",
    "makeList(news_url_1,news_url)\n",
    "\n",
    "#NAVER 뉴스만 남기기\n",
    "final_urls = []\n",
    "for i in tqdm(range(len(news_url_1))):\n",
    "    if \"news.naver.com\" in news_url_1[i]:\n",
    "        final_urls.append(news_url_1[i])\n",
    "    else:\n",
    "        pass\n",
    "\n",
    "# 뉴스 내용 크롤링\n",
    "\n",
    "for i in tqdm(final_urls):\n",
    "    #각 기사 html get하기\n",
    "    news = requests.get(i,headers=headers)\n",
    "    news_html = BeautifulSoup(news.text,\"html.parser\")\n",
    "    # 뉴스 본문 가져오기\n",
    "    content = news_html.select(\"div#dic_area\")\n",
    "\n",
    "    # 기사 텍스트만 가져오기\n",
    "    # list합치기\n",
    "    content = ''.join(str(content))\n",
    "\n",
    "    # html태그제거 및 텍스트 다듬기\n",
    "    pattern1 = '<[^>]*>'\n",
    "    content = re.sub(pattern=pattern1, repl='', string=content)\n",
    "    pattern2 = \"\"\"[\\n\\n\\n\\n\\n// flash 오류를 우회하기 위한 함수 추가\\nfunction _flash_removeCallback() {}\"\"\"\n",
    "    content = content.replace(pattern2, '')\n",
    "\n",
    "    news_contents.append(content)\n",
    "\n",
    "\n",
    "###데이터 프레임으로 만들기###\n",
    "import pandas as pd\n",
    "\n",
    "#데이터 프레임 만들기\n",
    "news_df = pd.DataFrame({'content':news_contents})\n",
    "news_df\n",
    "#데이터 프레임 저장\n",
    "now = datetime.datetime.now() \n",
    "news_df.to_csv('df_0331.csv',encoding='utf-8-sig',index=False)\n"
   ]
  },
  {
   "cell_type": "code",
   "execution_count": 36,
   "id": "9badf34b",
   "metadata": {},
   "outputs": [],
   "source": [
    "df_0323 = pd.read_csv('http://drive.google.com/uc?export=view&id=1PwL724eJaTslaHqXA3oKTsdmPAqiHNL3')\n",
    "df_0324 = pd.read_csv('http://drive.google.com/uc?export=view&id=1CWQa-WBMSgEfCE1kAlh7_SartN8eW8gP')\n",
    "df_0325 = pd.read_csv('http://drive.google.com/uc?export=view&id=1ykj7yAgaLWkSAwIYZjCZE7kWaoF62f0X')\n",
    "df_0326 = pd.read_csv('http://drive.google.com/uc?export=view&id=1sv3AReupiBXaZwURyiKKPjQcznrywAxM')\n",
    "df_0329 = pd.read_csv('http://drive.google.com/uc?export=view&id=1JfeaELJ8aR7DkKQ6jW4t2DSc0FH23Ddf')\n",
    "df_0330 = pd.read_csv('http://drive.google.com/uc?export=view&id=1rIrf36SWUKk979jGswKww2AppAcHXaHF')\n",
    "df_0331 = pd.read_csv('http://drive.google.com/uc?export=view&id=1ghG4XoJrtpd2-PxzPWQVCg4SZ8KxOPOY')"
   ]
  },
  {
   "cell_type": "markdown",
   "id": "1b65b10e",
   "metadata": {},
   "source": [
    "- 크롤링의 결과값을 가져왔습니다."
   ]
  },
  {
   "cell_type": "markdown",
   "id": "c1351c3a",
   "metadata": {},
   "source": [
    "# 불용어 사전 가져오기"
   ]
  },
  {
   "cell_type": "code",
   "execution_count": null,
   "id": "6790568f",
   "metadata": {},
   "outputs": [],
   "source": [
    "korean_stopwords_path = \"korean_stopwords.txt\"\n",
    "with open(korean_stopwords_path, encoding='utf-8') as f:\n",
    "    stopwords = f.readlines()\n",
    "stopwords = [x.strip() for x in stopwords]"
   ]
  },
  {
   "cell_type": "markdown",
   "id": "990b981f",
   "metadata": {},
   "source": [
    "http://drive.google.com/uc?export=view&id=1VHWgI6Tn0sKEWGTKN_OKssTC5pt160GA\n",
    "- 불용어 사전 다운로드 링크입니다.\n",
    "- 다운 후 경로 설정하셔서 사용하십니다."
   ]
  },
  {
   "cell_type": "markdown",
   "id": "197ce356",
   "metadata": {},
   "source": [
    "# 자연어 처리(일자별 빈도 상위 40개 추출)"
   ]
  },
  {
   "cell_type": "code",
   "execution_count": null,
   "id": "57efc9f3",
   "metadata": {},
   "outputs": [],
   "source": [
    "#!git clone https://github.com/lovit/textrank.git\n",
    "#!pip install pororo\n",
    "#!pip install konlpy"
   ]
  },
  {
   "cell_type": "markdown",
   "id": "2c7ea827",
   "metadata": {},
   "source": [
    "- konlpy 패키지 다운로드 "
   ]
  },
  {
   "cell_type": "code",
   "execution_count": null,
   "id": "9dee5a86",
   "metadata": {},
   "outputs": [],
   "source": [
    "import konlpy\n",
    "from konlpy.tag import Okt\n",
    "from collections import Counter"
   ]
  },
  {
   "cell_type": "code",
   "execution_count": null,
   "id": "5cab3a5d",
   "metadata": {},
   "outputs": [],
   "source": [
    "sum = \"\"\n",
    "for i in range(len(df_0323)):\n",
    "    a = df_0323['content'][i] \n",
    "    sum += a\n",
    "    nouns_tag = Okt()\n",
    "    nouns = nouns_tag.nouns(sum)\n",
    "    count = Counter(nouns)\n",
    "    remove_char_counter = Counter({x : count[x] for x in count if len(x) > 1})\n",
    "    remove_char_counter = Counter({x: remove_char_counter[x] for x in count if x not in stopwords})\n",
    "    word_0323 = remove_char_counter.most_common(40)\n",
    "    \n",
    "name =[]\n",
    "score = []\n",
    "for i in range(len(word_0323)) :\n",
    "    plus1 = word_0323[i][0]\n",
    "    name.append(plus1)\n",
    "    plus2 = word_0323[i][1]\n",
    "    score.append(plus2)\n",
    "    \n",
    "df_23 = pd.DataFrame(score,name) \n",
    "df_23 = df_23.reset_index()\n",
    "df_23.columns = ['단어','빈도']"
   ]
  },
  {
   "cell_type": "markdown",
   "id": "137d2337",
   "metadata": {},
   "source": [
    "- 일별로 단어의 빈도를 추출하였습니다.(3.23)"
   ]
  },
  {
   "cell_type": "code",
   "execution_count": null,
   "id": "886629e0",
   "metadata": {},
   "outputs": [],
   "source": [
    "sum = \"\"\n",
    "for i in range(len(df_0324)):\n",
    "    a = df_0324['content'][i] \n",
    "    sum += a\n",
    "    nouns_tag = Okt()\n",
    "    nouns = nouns_tag.nouns(sum)\n",
    "    count = Counter(nouns)\n",
    "    remove_char_counter = Counter({x : count[x] for x in count if len(x) > 1})\n",
    "    remove_char_counter = Counter({x: remove_char_counter[x] for x in count if x not in stopwords})\n",
    "    word_0324 = remove_char_counter.most_common(40)\n",
    "    \n",
    "name =[]\n",
    "score = []\n",
    "for i in range(len(word_0324)) :\n",
    "    plus1 = word_0324[i][0]\n",
    "    name.append(plus1)\n",
    "    plus2 = word_0324[i][1]\n",
    "    score.append(plus2)\n",
    "    \n",
    "df_24 = pd.DataFrame(score,name) \n",
    "df_24 = df_24.reset_index()\n",
    "df_24.columns = ['단어','빈도']"
   ]
  },
  {
   "cell_type": "markdown",
   "id": "5d49a744",
   "metadata": {},
   "source": [
    "- 일별로 단어의 빈도를 추출하였습니다.(3.24)"
   ]
  },
  {
   "cell_type": "code",
   "execution_count": null,
   "id": "5619d838",
   "metadata": {},
   "outputs": [],
   "source": [
    "sum = \"\"\n",
    "for i in range(len(df_0325)):\n",
    "    a = df_0325['content'][i] \n",
    "    sum += a\n",
    "    nouns_tag = Okt()\n",
    "    nouns = nouns_tag.nouns(sum)\n",
    "    count = Counter(nouns)\n",
    "    remove_char_counter = Counter({x : count[x] for x in count if len(x) > 1})\n",
    "    remove_char_counter = Counter({x: remove_char_counter[x] for x in count if x not in stopwords})\n",
    "    word_0325 = remove_char_counter.most_common(40)\n",
    "    \n",
    "name =[]\n",
    "score = []\n",
    "for i in range(len(word_0325)) :\n",
    "    plus1 = word_0325[i][0]\n",
    "    name.append(plus1)\n",
    "    plus2 = word_0325[i][1]\n",
    "    score.append(plus2)\n",
    "    \n",
    "df_25 = pd.DataFrame(score,name) \n",
    "df_25 = df_25.reset_index()\n",
    "df_25.columns = ['단어','빈도']"
   ]
  },
  {
   "cell_type": "markdown",
   "id": "d10b065d",
   "metadata": {},
   "source": [
    "- 일별로 단어의 빈도를 추출하였습니다.(3.25)"
   ]
  },
  {
   "cell_type": "code",
   "execution_count": null,
   "id": "1a514f26",
   "metadata": {},
   "outputs": [],
   "source": [
    "sum = \"\"\n",
    "for i in range(len(df_0326)):\n",
    "    a = df_0326['content'][i] \n",
    "    sum += a\n",
    "    nouns_tag = Okt()\n",
    "    nouns = nouns_tag.nouns(sum)\n",
    "    count = Counter(nouns)\n",
    "    remove_char_counter = Counter({x : count[x] for x in count if len(x) > 1})\n",
    "    remove_char_counter = Counter({x: remove_char_counter[x] for x in count if x not in stopwords})\n",
    "    word_0326 = remove_char_counter.most_common(40)\n",
    "    \n",
    "name =[]\n",
    "score = []\n",
    "for i in range(len(word_0326)) :\n",
    "    plus1 = word_0326[i][0]\n",
    "    name.append(plus1)\n",
    "    plus2 = word_0326[i][1]\n",
    "    score.append(plus2)\n",
    "    \n",
    "df_26 = pd.DataFrame(score,name) \n",
    "df_26 = df_26.reset_index()\n",
    "df_26.columns = ['단어','빈도']"
   ]
  },
  {
   "cell_type": "markdown",
   "id": "0a81ef7b",
   "metadata": {},
   "source": [
    "- 일별로 단어의 빈도를 추출하였습니다.(3.26)"
   ]
  },
  {
   "cell_type": "code",
   "execution_count": null,
   "id": "6b8a3fda",
   "metadata": {},
   "outputs": [],
   "source": [
    "sum = \"\"\n",
    "for i in range(len(df_0329)):\n",
    "    a = df_0329['content'][i] \n",
    "    sum += a\n",
    "    nouns_tag = Okt()\n",
    "    nouns = nouns_tag.nouns(sum)\n",
    "    count = Counter(nouns)\n",
    "    remove_char_counter = Counter({x : count[x] for x in count if len(x) > 1})\n",
    "    remove_char_counter = Counter({x: remove_char_counter[x] for x in count if x not in stopwords})\n",
    "    word_0329 = remove_char_counter.most_common(40)\n",
    "    \n",
    "name =[]\n",
    "score = []\n",
    "for i in range(len(word_0329)) :\n",
    "    plus1 = word_0329[i][0]\n",
    "    name.append(plus1)\n",
    "    plus2 = word_0329[i][1]\n",
    "    score.append(plus2)\n",
    "    \n",
    "df_29 = pd.DataFrame(score,name) \n",
    "df_29 = df_29.reset_index()\n",
    "df_29.columns = ['단어','빈도']"
   ]
  },
  {
   "cell_type": "markdown",
   "id": "33594b86",
   "metadata": {},
   "source": [
    "- 일별로 단어의 빈도를 추출하였습니다.(3.29)"
   ]
  },
  {
   "cell_type": "code",
   "execution_count": null,
   "id": "b757c762",
   "metadata": {},
   "outputs": [],
   "source": [
    "sum = \"\"\n",
    "for i in range(len(df_0330)):\n",
    "    a = df_0330['content'][i] \n",
    "    sum += a\n",
    "    nouns_tag = Okt()\n",
    "    nouns = nouns_tag.nouns(sum)\n",
    "    count = Counter(nouns)\n",
    "    remove_char_counter = Counter({x : count[x] for x in count if len(x) > 1})\n",
    "    remove_char_counter = Counter({x: remove_char_counter[x] for x in count if x not in stopwords})\n",
    "    word_0330 = remove_char_counter.most_common(40)\n",
    "    \n",
    "name =[]\n",
    "score = []\n",
    "for i in range(len(word_0330)) :\n",
    "    plus1 = word_0330[i][0]\n",
    "    name.append(plus1)\n",
    "    plus2 = word_0330[i][1]\n",
    "    score.append(plus2)\n",
    "    \n",
    "df_30 = pd.DataFrame(score,name) \n",
    "df_30 = df_30.reset_index()\n",
    "df_30.columns = ['단어','빈도']"
   ]
  },
  {
   "cell_type": "markdown",
   "id": "47755281",
   "metadata": {},
   "source": [
    "- 일별로 단어의 빈도를 추출하였습니다.(3.30)"
   ]
  },
  {
   "cell_type": "code",
   "execution_count": null,
   "id": "bc72886e",
   "metadata": {},
   "outputs": [],
   "source": [
    "sum = \"\"\n",
    "for i in range(len(df_0331)):\n",
    "    a = df_0331['content'][i] \n",
    "    sum += a\n",
    "    nouns_tag = Okt()\n",
    "    nouns = nouns_tag.nouns(sum)\n",
    "    count = Counter(nouns)\n",
    "    remove_char_counter = Counter({x : count[x] for x in count if len(x) > 1})\n",
    "    remove_char_counter = Counter({x: remove_char_counter[x] for x in count if x not in stopwords})\n",
    "    word_0331 = remove_char_counter.most_common(40)\n",
    "    \n",
    "name =[]\n",
    "score = []\n",
    "for i in range(len(word_0331)) :\n",
    "    plus1 = word_0331[i][0]\n",
    "    name.append(plus1)\n",
    "    plus2 = word_0331[i][1]\n",
    "    score.append(plus2)\n",
    "    \n",
    "df_31 = pd.DataFrame(score,name) \n",
    "df_31 = df_31.reset_index()\n",
    "df_31.columns = ['단어','빈도']"
   ]
  },
  {
   "cell_type": "markdown",
   "id": "efea5ded",
   "metadata": {},
   "source": [
    "- 일별로 단어의 빈도를 추출하였습니다.(3.31)"
   ]
  },
  {
   "cell_type": "markdown",
   "id": "72cdfb3d",
   "metadata": {},
   "source": [
    "# 삼성전자의 등락률 가져오기(기사 추출에 따른 7일치 등락률)"
   ]
  },
  {
   "cell_type": "code",
   "execution_count": 27,
   "id": "c5e26083",
   "metadata": {},
   "outputs": [],
   "source": [
    "# !pip install FinanceDataReader\n",
    "import FinanceDataReader as fdr"
   ]
  },
  {
   "cell_type": "code",
   "execution_count": 28,
   "id": "8f1dcede",
   "metadata": {},
   "outputs": [
    {
     "data": {
      "text/html": [
       "<div>\n",
       "<style scoped>\n",
       "    .dataframe tbody tr th:only-of-type {\n",
       "        vertical-align: middle;\n",
       "    }\n",
       "\n",
       "    .dataframe tbody tr th {\n",
       "        vertical-align: top;\n",
       "    }\n",
       "\n",
       "    .dataframe thead th {\n",
       "        text-align: right;\n",
       "    }\n",
       "</style>\n",
       "<table border=\"1\" class=\"dataframe\">\n",
       "  <thead>\n",
       "    <tr style=\"text-align: right;\">\n",
       "      <th></th>\n",
       "      <th>Change</th>\n",
       "    </tr>\n",
       "    <tr>\n",
       "      <th>Date</th>\n",
       "      <th></th>\n",
       "    </tr>\n",
       "  </thead>\n",
       "  <tbody>\n",
       "    <tr>\n",
       "      <th>2021-03-23</th>\n",
       "      <td>-0.002439</td>\n",
       "    </tr>\n",
       "    <tr>\n",
       "      <th>2021-03-24</th>\n",
       "      <td>-0.009780</td>\n",
       "    </tr>\n",
       "    <tr>\n",
       "      <th>2021-03-25</th>\n",
       "      <td>0.002469</td>\n",
       "    </tr>\n",
       "    <tr>\n",
       "      <th>2021-03-26</th>\n",
       "      <td>0.003695</td>\n",
       "    </tr>\n",
       "    <tr>\n",
       "      <th>2021-03-29</th>\n",
       "      <td>0.001227</td>\n",
       "    </tr>\n",
       "    <tr>\n",
       "      <th>2021-03-30</th>\n",
       "      <td>0.007353</td>\n",
       "    </tr>\n",
       "    <tr>\n",
       "      <th>2021-03-31</th>\n",
       "      <td>-0.009732</td>\n",
       "    </tr>\n",
       "  </tbody>\n",
       "</table>\n",
       "</div>"
      ],
      "text/plain": [
       "              Change\n",
       "Date                \n",
       "2021-03-23 -0.002439\n",
       "2021-03-24 -0.009780\n",
       "2021-03-25  0.002469\n",
       "2021-03-26  0.003695\n",
       "2021-03-29  0.001227\n",
       "2021-03-30  0.007353\n",
       "2021-03-31 -0.009732"
      ]
     },
     "execution_count": 28,
     "metadata": {},
     "output_type": "execute_result"
    }
   ],
   "source": [
    "sam = fdr.DataReader('005930','2021-03-23','2021-03-31')\n",
    "sam = sam[['Change']]\n",
    "sam"
   ]
  },
  {
   "cell_type": "markdown",
   "id": "066c1f17",
   "metadata": {},
   "source": [
    "# 하락장인 날의 점수 구하기"
   ]
  },
  {
   "cell_type": "code",
   "execution_count": null,
   "id": "d6cd96af",
   "metadata": {},
   "outputs": [],
   "source": [
    "df_down = pd.merge(df_23,df_24,on = '단어', how = 'outer')\n",
    "df_down = pd.merge(df_down, df_31, on = '단어', how = 'outer')\n",
    "df_down.columns = ['단어','0323','0324','0331']\n",
    "df_down= df_down.fillna(0) # 결측치 0으로 처리\n",
    "df_down['mean'] = df_down.mean(axis = 'columns') # 기간 내 언급 평균치\n",
    "\n",
    "import numpy as np # 일별 점수 추출\n",
    "df_down['0323_score'] = np.where(df_down['0323'] > df_down['mean'], df_down['0323'] - df_down['mean'], 0)\n",
    "df_down['0324_score'] = np.where(df_down['0324'] > df_down['mean'], df_down['0324'] - df_down['mean'], 0)\n",
    "df_down['0331_score'] = np.where(df_down['0331'] > df_down['mean'], df_down['0331'] - df_down['mean'], 0)\n",
    "df_down['down_score'] = df_down['0323_score'] + df_down['0324_score'] + df_down['0331_score']"
   ]
  },
  {
   "cell_type": "markdown",
   "id": "b3a02583",
   "metadata": {},
   "source": [
    "# 상승장인 날의 점수 구하기"
   ]
  },
  {
   "cell_type": "code",
   "execution_count": null,
   "id": "aa506a16",
   "metadata": {},
   "outputs": [],
   "source": [
    "df_up = pd.merge(df_25,df_26,on = '단어', how = 'outer')\n",
    "df_up = pd.merge(df_up,df_29,on = '단어', how = 'outer')\n",
    "df_up = pd.merge(df_up,df_30,on = '단어', how = 'outer')\n",
    "df_up.columns = ['단어','0325','0326','0329','0330']\n",
    "df_up= df_up.fillna(0) # 결측치 0으로 처리\n",
    "df_up['mean'] = df_up.mean(axis = 'columns') # 기간 내 언급 평균치\n",
    "\n",
    "import numpy as np # 일별 점수 추출\n",
    "df_up['0325_score'] = np.where(df_up['0325'] > df_up['mean'], df_up['0325'] - df_up['mean'], 0)\n",
    "df_up['0326_score'] = np.where(df_up['0326'] > df_up['mean'], df_up['0326'] - df_up['mean'], 0)\n",
    "df_up['0329_score'] = np.where(df_up['0329'] > df_up['mean'], df_up['0329'] - df_up['mean'], 0)\n",
    "df_up['0330_score'] = np.where(df_up['0330'] > df_up['mean'], df_up['0330'] - df_up['mean'], 0)\n",
    "df_up['up_score'] = df_up['0325_score'] + df_up['0326_score'] + df_up['0329_score'] + df_up['0330_score']"
   ]
  },
  {
   "cell_type": "markdown",
   "id": "e0866c23",
   "metadata": {},
   "source": [
    "# 기간내 단어별 최종 점수 산출"
   ]
  },
  {
   "cell_type": "code",
   "execution_count": null,
   "id": "32983bf0",
   "metadata": {},
   "outputs": [],
   "source": [
    "df_down = df_down[['단어','down_score']]\n",
    "df_up = df_up[['단어','up_score']]\n",
    "df_score = pd.merge(df_up, df_down, on = '단어', how = 'outer')\n",
    "df_score = df_score.fillna(0)\n",
    "df_score['score'] = df_score['up_score']-df_score['down_score']\n",
    "df_score = df_score[['단어','score']]"
   ]
  },
  {
   "cell_type": "code",
   "execution_count": 40,
   "id": "d5d14654",
   "metadata": {},
   "outputs": [],
   "source": [
    "df_score23=pd.merge(df_23, df_score, on = '단어', how = 'outer')\n",
    "df_score23['daliy_score'] = df_score23['빈도']*df_score23['score']\n",
    "df_score23=df_score23.dropna()\n",
    "score_23 = df_score23['daliy_score'].unique()\n",
    "score_23  = score_23 .tolist()\n",
    "score_23=sum(score_23)"
   ]
  },
  {
   "cell_type": "code",
   "execution_count": 41,
   "id": "860429b9",
   "metadata": {},
   "outputs": [],
   "source": [
    "df_score24=pd.merge(df_24, df_score, on = '단어', how = 'outer')\n",
    "df_score24['daliy_score'] = df_score24['빈도']*df_score24['score']\n",
    "df_score24=df_score24.dropna()\n",
    "score_24 = df_score24['daliy_score'].unique()\n",
    "score_24  = score_24 .tolist()\n",
    "score_24=sum(score_24)"
   ]
  },
  {
   "cell_type": "code",
   "execution_count": 42,
   "id": "dd195dde",
   "metadata": {},
   "outputs": [],
   "source": [
    "df_score25=pd.merge(df_25, df_score, on = '단어', how = 'outer')\n",
    "df_score25['daliy_score'] = df_score25['빈도']*df_score25['score']\n",
    "df_score25=df_score25.dropna()\n",
    "score_25 = df_score25['daliy_score'].unique()\n",
    "score_25  = score_25 .tolist()\n",
    "score_25=sum(score_25)"
   ]
  },
  {
   "cell_type": "code",
   "execution_count": 43,
   "id": "8be3f11a",
   "metadata": {},
   "outputs": [],
   "source": [
    "df_score26=pd.merge(df_26, df_score, on = '단어', how = 'outer')\n",
    "df_score26['daliy_score'] = df_score26['빈도']*df_score26['score']\n",
    "df_score26=df_score26.dropna()\n",
    "score_26 = df_score26['daliy_score'].unique()\n",
    "score_26  = score_26 .tolist()\n",
    "score_26=sum(score_26)"
   ]
  },
  {
   "cell_type": "code",
   "execution_count": 44,
   "id": "f9682749",
   "metadata": {},
   "outputs": [],
   "source": [
    "df_score29=pd.merge(df_29, df_score, on = '단어', how = 'outer')\n",
    "df_score29['daliy_score'] = df_score29['빈도']*df_score29['score']\n",
    "df_score29=df_score29.dropna()\n",
    "score_29 = df_score29['daliy_score'].unique()\n",
    "score_29  = score_29 .tolist()\n",
    "score_29=sum(score_29)"
   ]
  },
  {
   "cell_type": "code",
   "execution_count": 45,
   "id": "c5f1d3de",
   "metadata": {},
   "outputs": [],
   "source": [
    "df_score30=pd.merge(df_30, df_score, on = '단어', how = 'outer')\n",
    "df_score30['daliy_score'] = df_score30['빈도']*df_score30['score']\n",
    "df_score30=df_score30.dropna()\n",
    "score_30 = df_score30['daliy_score'].unique()\n",
    "score_30  = score_30 .tolist()\n",
    "score_30=sum(score_30)"
   ]
  },
  {
   "cell_type": "code",
   "execution_count": 46,
   "id": "7b1c3add",
   "metadata": {},
   "outputs": [],
   "source": [
    "df_score31=pd.merge(df_31, df_score, on = '단어', how = 'outer')\n",
    "df_score31['daliy_score'] = df_score31['빈도']*df_score31['score']\n",
    "df_score31=df_score31.dropna()\n",
    "score_31 = df_score31['daliy_score'].unique()\n",
    "score_31  = score_31 .tolist()\n",
    "score_31=sum(score_31)"
   ]
  },
  {
   "cell_type": "code",
   "execution_count": 47,
   "id": "e8e9ab45",
   "metadata": {},
   "outputs": [],
   "source": [
    "day_score = [score_23,score_24,score_25,score_26,score_29,score_30,score_31]\n",
    "data = ['20210323','20210324','20210325','20210326','20210329','20210330','20210331']"
   ]
  },
  {
   "cell_type": "code",
   "execution_count": 48,
   "id": "dabfa463",
   "metadata": {},
   "outputs": [],
   "source": [
    "day_score = pd.DataFrame(day_score,data)\n",
    "day_score = day_score.reset_index()\n",
    "day_score.columns = ['날짜','점수']\n",
    "day_score['날짜'] = day_score['날짜'].astype('str')\n",
    "day_score['날짜'] = pd.to_datetime(day_score['날짜'])\n",
    "day_score = day_score.set_index('날짜')"
   ]
  },
  {
   "cell_type": "code",
   "execution_count": 49,
   "id": "cc64c60f",
   "metadata": {},
   "outputs": [
    {
     "data": {
      "text/html": [
       "<div>\n",
       "<style scoped>\n",
       "    .dataframe tbody tr th:only-of-type {\n",
       "        vertical-align: middle;\n",
       "    }\n",
       "\n",
       "    .dataframe tbody tr th {\n",
       "        vertical-align: top;\n",
       "    }\n",
       "\n",
       "    .dataframe thead th {\n",
       "        text-align: right;\n",
       "    }\n",
       "</style>\n",
       "<table border=\"1\" class=\"dataframe\">\n",
       "  <thead>\n",
       "    <tr style=\"text-align: right;\">\n",
       "      <th></th>\n",
       "      <th>점수</th>\n",
       "    </tr>\n",
       "    <tr>\n",
       "      <th>날짜</th>\n",
       "      <th></th>\n",
       "    </tr>\n",
       "  </thead>\n",
       "  <tbody>\n",
       "    <tr>\n",
       "      <th>2021-03-23</th>\n",
       "      <td>-2078.166667</td>\n",
       "    </tr>\n",
       "    <tr>\n",
       "      <th>2021-03-24</th>\n",
       "      <td>-1404.083333</td>\n",
       "    </tr>\n",
       "    <tr>\n",
       "      <th>2021-03-25</th>\n",
       "      <td>6913.083333</td>\n",
       "    </tr>\n",
       "    <tr>\n",
       "      <th>2021-03-26</th>\n",
       "      <td>7239.250000</td>\n",
       "    </tr>\n",
       "    <tr>\n",
       "      <th>2021-03-29</th>\n",
       "      <td>14817.750000</td>\n",
       "    </tr>\n",
       "    <tr>\n",
       "      <th>2021-03-30</th>\n",
       "      <td>10480.916667</td>\n",
       "    </tr>\n",
       "    <tr>\n",
       "      <th>2021-03-31</th>\n",
       "      <td>2375.000000</td>\n",
       "    </tr>\n",
       "  </tbody>\n",
       "</table>\n",
       "</div>"
      ],
      "text/plain": [
       "                      점수\n",
       "날짜                      \n",
       "2021-03-23  -2078.166667\n",
       "2021-03-24  -1404.083333\n",
       "2021-03-25   6913.083333\n",
       "2021-03-26   7239.250000\n",
       "2021-03-29  14817.750000\n",
       "2021-03-30  10480.916667\n",
       "2021-03-31   2375.000000"
      ]
     },
     "execution_count": 49,
     "metadata": {},
     "output_type": "execute_result"
    }
   ],
   "source": [
    "day_score"
   ]
  },
  {
   "cell_type": "markdown",
   "id": "3b96502c",
   "metadata": {},
   "source": [
    "- 기간별 점수화 결과"
   ]
  },
  {
   "cell_type": "code",
   "execution_count": 50,
   "id": "46abfad7",
   "metadata": {},
   "outputs": [],
   "source": [
    "from sklearn.preprocessing import MinMaxScaler\n",
    "scaler = MinMaxScaler()"
   ]
  },
  {
   "cell_type": "code",
   "execution_count": 51,
   "id": "382ae01d",
   "metadata": {},
   "outputs": [],
   "source": [
    "day_score[:] = scaler.fit_transform(day_score[:])\n",
    "day_score['score'] = day_score['점수']*100"
   ]
  },
  {
   "cell_type": "markdown",
   "id": "55e9c727",
   "metadata": {},
   "source": [
    "- MinMax정규화를 하였습니다."
   ]
  },
  {
   "cell_type": "code",
   "execution_count": 52,
   "id": "949e2942",
   "metadata": {},
   "outputs": [
    {
     "data": {
      "text/html": [
       "<div>\n",
       "<style scoped>\n",
       "    .dataframe tbody tr th:only-of-type {\n",
       "        vertical-align: middle;\n",
       "    }\n",
       "\n",
       "    .dataframe tbody tr th {\n",
       "        vertical-align: top;\n",
       "    }\n",
       "\n",
       "    .dataframe thead th {\n",
       "        text-align: right;\n",
       "    }\n",
       "</style>\n",
       "<table border=\"1\" class=\"dataframe\">\n",
       "  <thead>\n",
       "    <tr style=\"text-align: right;\">\n",
       "      <th></th>\n",
       "      <th>점수</th>\n",
       "      <th>score</th>\n",
       "    </tr>\n",
       "    <tr>\n",
       "      <th>날짜</th>\n",
       "      <th></th>\n",
       "      <th></th>\n",
       "    </tr>\n",
       "  </thead>\n",
       "  <tbody>\n",
       "    <tr>\n",
       "      <th>2021-03-23</th>\n",
       "      <td>0.000000</td>\n",
       "      <td>0.000000</td>\n",
       "    </tr>\n",
       "    <tr>\n",
       "      <th>2021-03-24</th>\n",
       "      <td>0.039896</td>\n",
       "      <td>3.989623</td>\n",
       "    </tr>\n",
       "    <tr>\n",
       "      <th>2021-03-25</th>\n",
       "      <td>0.532155</td>\n",
       "      <td>53.215521</td>\n",
       "    </tr>\n",
       "    <tr>\n",
       "      <th>2021-03-26</th>\n",
       "      <td>0.551460</td>\n",
       "      <td>55.145967</td>\n",
       "    </tr>\n",
       "    <tr>\n",
       "      <th>2021-03-29</th>\n",
       "      <td>1.000000</td>\n",
       "      <td>100.000000</td>\n",
       "    </tr>\n",
       "    <tr>\n",
       "      <th>2021-03-30</th>\n",
       "      <td>0.743321</td>\n",
       "      <td>74.332062</td>\n",
       "    </tr>\n",
       "    <tr>\n",
       "      <th>2021-03-31</th>\n",
       "      <td>0.263565</td>\n",
       "      <td>26.356467</td>\n",
       "    </tr>\n",
       "  </tbody>\n",
       "</table>\n",
       "</div>"
      ],
      "text/plain": [
       "                  점수       score\n",
       "날짜                              \n",
       "2021-03-23  0.000000    0.000000\n",
       "2021-03-24  0.039896    3.989623\n",
       "2021-03-25  0.532155   53.215521\n",
       "2021-03-26  0.551460   55.145967\n",
       "2021-03-29  1.000000  100.000000\n",
       "2021-03-30  0.743321   74.332062\n",
       "2021-03-31  0.263565   26.356467"
      ]
     },
     "execution_count": 52,
     "metadata": {},
     "output_type": "execute_result"
    }
   ],
   "source": [
    "day_score"
   ]
  },
  {
   "cell_type": "code",
   "execution_count": 53,
   "id": "adbf3fa9",
   "metadata": {},
   "outputs": [
    {
     "data": {
      "image/png": "[encoded data removed]",
      "text/plain": [
       "<Figure size 576x360 with 1 Axes>"
      ]
     },
     "metadata": {},
     "output_type": "display_data"
    }
   ],
   "source": [
    "mean_score = day_score['score'].mean()\n",
    "fig = plt.figure(figsize=(8,5)) ## 캔버스 생성\n",
    "fig.set_facecolor('white') ## 캔버스 색상 설정\n",
    "ax = fig.add_subplot() ## 그림 뼈대(프레임) 생성\n",
    "\n",
    "ax.spines['right'].set_visible(False) # 오른쪽 선 삭제\n",
    "ax.spines['top'].set_visible(False) # 위쪽 선 삭제\n",
    "plt.plot(day_score.index, day_score['score'],label=\"score\", marker='o')\n",
    "ax.axhline(mean_score,label='Mean',color = 'red')\n",
    "\n",
    "plt.xticks(rotation=45) ## x축 눈금 라벨 설정 - 45도 회전 \n",
    "plt.title('Score',fontsize=20) ## 타이틀 설정\n",
    "plt.legend()\n",
    "plt.ylabel('score',rotation=90, fontsize=15,) ## y축 라벨\n",
    "plt.xlabel('날짜',fontsize=15) ## x축 라벨\n",
    "plt.title('기간 내 기사 점수',fontsize=20) ## 타이틀 설정\n",
    "plt.show()"
   ]
  }
 ],
 "metadata": {
  "kernelspec": {
   "display_name": "Python 3",
   "language": "python",
   "name": "python3"
  },
  "language_info": {
   "codemirror_mode": {
    "name": "ipython",
    "version": 3
   },
   "file_extension": ".py",
   "mimetype": "text/x-python",
   "name": "python",
   "nbconvert_exporter": "python",
   "pygments_lexer": "ipython3",
   "version": "3.8.8"
  }
 },
 "nbformat": 4,
 "nbformat_minor": 5
}
